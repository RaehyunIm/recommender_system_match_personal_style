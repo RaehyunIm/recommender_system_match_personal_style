{
 "cells": [
  {
   "cell_type": "markdown",
   "id": "c04f2d97",
   "metadata": {},
   "source": [
    "- I included Exploratory Data Analysis in the beginning for purposes of understanding the scale, complexity, and relationship between columns, although it isn't a part of this project's scope.\n",
    "\n",
    "\n",
    "- The **recommender system** modeling begins at the middle of this page so you can skip the EDA part, and directly move onto the modeling part.\n",
    "\n",
    "\n",
    "-  Writing the explanations on markdown was made after finishing the code. It is important to note that  I did not contemplate the time, spent for the explanation and the presentation to be included in the 2-hour limit. I consider that it is an extra effort to present my work in a more polished and professional manner."
   ]
  },
  {
   "cell_type": "code",
   "execution_count": 1,
   "id": "e2a6e9d6",
   "metadata": {},
   "outputs": [],
   "source": [
    "import pandas as pd\n",
    "import matplotlib.pyplot as plt\n",
    "import seaborn as sns\n",
    "import numpy as np\n",
    "%matplotlib inline\n",
    "from scipy.sparse import csr_matrix\n",
    "import sklearn\n",
    "from sklearn.neighbors import NearestNeighbors\n",
    "from sklearn.decomposition import TruncatedSVD"
   ]
  },
  {
   "cell_type": "code",
   "execution_count": 54,
   "id": "6221e2b1",
   "metadata": {},
   "outputs": [],
   "source": [
    "df = pd.read_csv(r\"C:\\Users\\raehy\\OneDrive\\Documents\\Rae Im\\take_home_ss_ratings.csv\")"
   ]
  },
  {
   "cell_type": "code",
   "execution_count": 3,
   "id": "5310babe",
   "metadata": {},
   "outputs": [
    {
     "data": {
      "text/html": [
       "<div>\n",
       "<style scoped>\n",
       "    .dataframe tbody tr th:only-of-type {\n",
       "        vertical-align: middle;\n",
       "    }\n",
       "\n",
       "    .dataframe tbody tr th {\n",
       "        vertical-align: top;\n",
       "    }\n",
       "\n",
       "    .dataframe thead th {\n",
       "        text-align: right;\n",
       "    }\n",
       "</style>\n",
       "<table border=\"1\" class=\"dataframe\">\n",
       "  <thead>\n",
       "    <tr style=\"text-align: right;\">\n",
       "      <th></th>\n",
       "      <th>user_id</th>\n",
       "      <th>quiz_type</th>\n",
       "      <th>quiz_number</th>\n",
       "      <th>question_number</th>\n",
       "      <th>item_id</th>\n",
       "      <th>rating</th>\n",
       "    </tr>\n",
       "  </thead>\n",
       "  <tbody>\n",
       "    <tr>\n",
       "      <th>0</th>\n",
       "      <td>0</td>\n",
       "      <td>random</td>\n",
       "      <td>0</td>\n",
       "      <td>0</td>\n",
       "      <td>45</td>\n",
       "      <td>1</td>\n",
       "    </tr>\n",
       "    <tr>\n",
       "      <th>1</th>\n",
       "      <td>0</td>\n",
       "      <td>random</td>\n",
       "      <td>0</td>\n",
       "      <td>1</td>\n",
       "      <td>734</td>\n",
       "      <td>1</td>\n",
       "    </tr>\n",
       "    <tr>\n",
       "      <th>2</th>\n",
       "      <td>0</td>\n",
       "      <td>random</td>\n",
       "      <td>0</td>\n",
       "      <td>2</td>\n",
       "      <td>4145</td>\n",
       "      <td>1</td>\n",
       "    </tr>\n",
       "    <tr>\n",
       "      <th>3</th>\n",
       "      <td>0</td>\n",
       "      <td>random</td>\n",
       "      <td>0</td>\n",
       "      <td>3</td>\n",
       "      <td>3231</td>\n",
       "      <td>0</td>\n",
       "    </tr>\n",
       "    <tr>\n",
       "      <th>4</th>\n",
       "      <td>0</td>\n",
       "      <td>random</td>\n",
       "      <td>0</td>\n",
       "      <td>4</td>\n",
       "      <td>361</td>\n",
       "      <td>1</td>\n",
       "    </tr>\n",
       "  </tbody>\n",
       "</table>\n",
       "</div>"
      ],
      "text/plain": [
       "   user_id quiz_type  quiz_number  question_number  item_id  rating\n",
       "0        0    random            0                0       45       1\n",
       "1        0    random            0                1      734       1\n",
       "2        0    random            0                2     4145       1\n",
       "3        0    random            0                3     3231       0\n",
       "4        0    random            0                4      361       1"
      ]
     },
     "execution_count": 3,
     "metadata": {},
     "output_type": "execute_result"
    }
   ],
   "source": [
    "df.head()"
   ]
  },
  {
   "cell_type": "markdown",
   "id": "a464cc5e",
   "metadata": {},
   "source": [
    "### Exploratory Data Analysis "
   ]
  },
  {
   "cell_type": "code",
   "execution_count": 4,
   "id": "cc11080e",
   "metadata": {},
   "outputs": [
    {
     "data": {
      "text/plain": [
       "(1116370, 6)"
      ]
     },
     "execution_count": 4,
     "metadata": {},
     "output_type": "execute_result"
    }
   ],
   "source": [
    "df.shape"
   ]
  },
  {
   "cell_type": "code",
   "execution_count": 5,
   "id": "4e901b61",
   "metadata": {},
   "outputs": [
    {
     "data": {
      "text/plain": [
       "user_id            0\n",
       "quiz_type          0\n",
       "quiz_number        0\n",
       "question_number    0\n",
       "item_id            0\n",
       "rating             0\n",
       "dtype: int64"
      ]
     },
     "execution_count": 5,
     "metadata": {},
     "output_type": "execute_result"
    }
   ],
   "source": [
    "# The dataset doesn't have missing values \n",
    "df.isnull().sum()"
   ]
  },
  {
   "cell_type": "code",
   "execution_count": 6,
   "id": "bb8d1669",
   "metadata": {},
   "outputs": [
    {
     "name": "stdout",
     "output_type": "stream",
     "text": [
      "<class 'pandas.core.frame.DataFrame'>\n",
      "RangeIndex: 1116370 entries, 0 to 1116369\n",
      "Data columns (total 6 columns):\n",
      " #   Column           Non-Null Count    Dtype \n",
      "---  ------           --------------    ----- \n",
      " 0   user_id          1116370 non-null  int64 \n",
      " 1   quiz_type        1116370 non-null  object\n",
      " 2   quiz_number      1116370 non-null  int64 \n",
      " 3   question_number  1116370 non-null  int64 \n",
      " 4   item_id          1116370 non-null  int64 \n",
      " 5   rating           1116370 non-null  int64 \n",
      "dtypes: int64(5), object(1)\n",
      "memory usage: 51.1+ MB\n"
     ]
    }
   ],
   "source": [
    "# We have only one categorical variable\n",
    "df.info()"
   ]
  },
  {
   "cell_type": "markdown",
   "id": "8bd33818",
   "metadata": {},
   "source": [
    "#### user id "
   ]
  },
  {
   "cell_type": "code",
   "execution_count": 7,
   "id": "5ef631c4",
   "metadata": {},
   "outputs": [
    {
     "data": {
      "text/plain": [
       "20000"
      ]
     },
     "execution_count": 7,
     "metadata": {},
     "output_type": "execute_result"
    }
   ],
   "source": [
    "# Total 20,000 users interacted with the quizzes\n",
    "df['user_id'].nunique()"
   ]
  },
  {
   "cell_type": "code",
   "execution_count": 8,
   "id": "8f0d5f9f",
   "metadata": {},
   "outputs": [
    {
     "data": {
      "text/plain": [
       "55.8185"
      ]
     },
     "execution_count": 8,
     "metadata": {},
     "output_type": "execute_result"
    }
   ],
   "source": [
    "# On average, users interact with 56 questions. \n",
    "(df['user_id'].count()/df['user_id'].nunique())"
   ]
  },
  {
   "cell_type": "markdown",
   "id": "c4339757",
   "metadata": {},
   "source": [
    "#### Quiz Number"
   ]
  },
  {
   "cell_type": "code",
   "execution_count": 9,
   "id": "10f763ed",
   "metadata": {},
   "outputs": [
    {
     "data": {
      "text/plain": [
       "quiz_number\n",
       "0      200000\n",
       "1      156400\n",
       "2      124750\n",
       "3      100690\n",
       "4       82830\n",
       "        ...  \n",
       "99         10\n",
       "100        10\n",
       "101        10\n",
       "102        10\n",
       "103        10\n",
       "Length: 104, dtype: int64"
      ]
     },
     "execution_count": 9,
     "metadata": {},
     "output_type": "execute_result"
    }
   ],
   "source": [
    "# As we expected, the number of quizzes that users engaged decreases along with the sequences of quiz \n",
    "df.groupby(['quiz_number']).size()"
   ]
  },
  {
   "cell_type": "code",
   "execution_count": 10,
   "id": "c24b295e",
   "metadata": {},
   "outputs": [],
   "source": [
    "# Convert categorical value to numeric \n",
    "df['quiz_type'] = df.quiz_type.map({'random':0, 'personalized':1})"
   ]
  },
  {
   "cell_type": "code",
   "execution_count": 11,
   "id": "f24b34ea",
   "metadata": {},
   "outputs": [
    {
     "data": {
      "text/html": [
       "<div>\n",
       "<style scoped>\n",
       "    .dataframe tbody tr th:only-of-type {\n",
       "        vertical-align: middle;\n",
       "    }\n",
       "\n",
       "    .dataframe tbody tr th {\n",
       "        vertical-align: top;\n",
       "    }\n",
       "\n",
       "    .dataframe thead th {\n",
       "        text-align: right;\n",
       "    }\n",
       "</style>\n",
       "<table border=\"1\" class=\"dataframe\">\n",
       "  <thead>\n",
       "    <tr style=\"text-align: right;\">\n",
       "      <th></th>\n",
       "      <th>user_id</th>\n",
       "      <th>quiz_type</th>\n",
       "      <th>quiz_number</th>\n",
       "      <th>question_number</th>\n",
       "      <th>item_id</th>\n",
       "      <th>rating</th>\n",
       "    </tr>\n",
       "  </thead>\n",
       "  <tbody>\n",
       "    <tr>\n",
       "      <th>0</th>\n",
       "      <td>0</td>\n",
       "      <td>0</td>\n",
       "      <td>0</td>\n",
       "      <td>0</td>\n",
       "      <td>45</td>\n",
       "      <td>1</td>\n",
       "    </tr>\n",
       "    <tr>\n",
       "      <th>1</th>\n",
       "      <td>0</td>\n",
       "      <td>0</td>\n",
       "      <td>0</td>\n",
       "      <td>1</td>\n",
       "      <td>734</td>\n",
       "      <td>1</td>\n",
       "    </tr>\n",
       "    <tr>\n",
       "      <th>2</th>\n",
       "      <td>0</td>\n",
       "      <td>0</td>\n",
       "      <td>0</td>\n",
       "      <td>2</td>\n",
       "      <td>4145</td>\n",
       "      <td>1</td>\n",
       "    </tr>\n",
       "    <tr>\n",
       "      <th>3</th>\n",
       "      <td>0</td>\n",
       "      <td>0</td>\n",
       "      <td>0</td>\n",
       "      <td>3</td>\n",
       "      <td>3231</td>\n",
       "      <td>0</td>\n",
       "    </tr>\n",
       "    <tr>\n",
       "      <th>4</th>\n",
       "      <td>0</td>\n",
       "      <td>0</td>\n",
       "      <td>0</td>\n",
       "      <td>4</td>\n",
       "      <td>361</td>\n",
       "      <td>1</td>\n",
       "    </tr>\n",
       "  </tbody>\n",
       "</table>\n",
       "</div>"
      ],
      "text/plain": [
       "   user_id  quiz_type  quiz_number  question_number  item_id  rating\n",
       "0        0          0            0                0       45       1\n",
       "1        0          0            0                1      734       1\n",
       "2        0          0            0                2     4145       1\n",
       "3        0          0            0                3     3231       0\n",
       "4        0          0            0                4      361       1"
      ]
     },
     "execution_count": 11,
     "metadata": {},
     "output_type": "execute_result"
    }
   ],
   "source": [
    "df.head()"
   ]
  },
  {
   "cell_type": "markdown",
   "id": "9eee02b1",
   "metadata": {},
   "source": [
    "#### Quizy Type "
   ]
  },
  {
   "cell_type": "code",
   "execution_count": 12,
   "id": "f97042fa",
   "metadata": {},
   "outputs": [
    {
     "data": {
      "text/plain": [
       "0    779920\n",
       "1    336450\n",
       "Name: quiz_type, dtype: int64"
      ]
     },
     "execution_count": 12,
     "metadata": {},
     "output_type": "execute_result"
    }
   ],
   "source": [
    "df['quiz_type'].value_counts()"
   ]
  },
  {
   "cell_type": "markdown",
   "id": "bc31cafc",
   "metadata": {},
   "source": [
    "##### Observation : \n",
    "- Personalized quiz takers tend to make purchase much higher rate than random quiz taker\n",
    "- Personalized quiz takers clicked \"Like\" 128% more than \"Dislike\""
   ]
  },
  {
   "cell_type": "code",
   "execution_count": 13,
   "id": "8236dda5",
   "metadata": {},
   "outputs": [
    {
     "data": {
      "text/plain": [
       "quiz_type  rating\n",
       "0          0         387392\n",
       "           1         392528\n",
       "1          0         102845\n",
       "           1         233605\n",
       "Name: rating, dtype: int64"
      ]
     },
     "execution_count": 13,
     "metadata": {},
     "output_type": "execute_result"
    }
   ],
   "source": [
    "df.groupby(['quiz_type','rating'])['rating'].count()"
   ]
  },
  {
   "cell_type": "code",
   "execution_count": 14,
   "id": "f2d731cb",
   "metadata": {},
   "outputs": [
    {
     "data": {
      "text/plain": [
       "1    626133\n",
       "0    490237\n",
       "Name: rating, dtype: int64"
      ]
     },
     "execution_count": 14,
     "metadata": {},
     "output_type": "execute_result"
    }
   ],
   "source": [
    "df['rating'].value_counts()"
   ]
  },
  {
   "cell_type": "code",
   "execution_count": 15,
   "id": "eaa098dd",
   "metadata": {},
   "outputs": [
    {
     "name": "stderr",
     "output_type": "stream",
     "text": [
      "C:\\ProgramData\\Anaconda3\\lib\\site-packages\\seaborn\\_decorators.py:36: FutureWarning: Pass the following variable as a keyword arg: x. From version 0.12, the only valid positional argument will be `data`, and passing other arguments without an explicit keyword will result in an error or misinterpretation.\n",
      "  warnings.warn(\n"
     ]
    },
    {
     "data": {
      "text/plain": [
       "<seaborn.axisgrid.FacetGrid at 0x187d40ab1c0>"
      ]
     },
     "execution_count": 15,
     "metadata": {},
     "output_type": "execute_result"
    },
    {
     "data": {
      "image/png": "[encoded data removed]",
      "text/plain": [
       "<Figure size 402.375x360 with 1 Axes>"
      ]
     },
     "metadata": {
      "needs_background": "light"
     },
     "output_type": "display_data"
    }
   ],
   "source": [
    "sns.catplot('quiz_type',data=df, hue='rating',kind='count')"
   ]
  },
  {
   "cell_type": "code",
   "execution_count": 56,
   "id": "9b810c85",
   "metadata": {},
   "outputs": [
    {
     "data": {
      "text/html": [
       "<div>\n",
       "<style scoped>\n",
       "    .dataframe tbody tr th:only-of-type {\n",
       "        vertical-align: middle;\n",
       "    }\n",
       "\n",
       "    .dataframe tbody tr th {\n",
       "        vertical-align: top;\n",
       "    }\n",
       "\n",
       "    .dataframe thead th {\n",
       "        text-align: right;\n",
       "    }\n",
       "</style>\n",
       "<table border=\"1\" class=\"dataframe\">\n",
       "  <thead>\n",
       "    <tr style=\"text-align: right;\">\n",
       "      <th></th>\n",
       "      <th>user_id</th>\n",
       "      <th>quiz_type</th>\n",
       "      <th>quiz_number</th>\n",
       "      <th>question_number</th>\n",
       "      <th>item_id</th>\n",
       "      <th>rating</th>\n",
       "    </tr>\n",
       "  </thead>\n",
       "  <tbody>\n",
       "    <tr>\n",
       "      <th>0</th>\n",
       "      <td>0</td>\n",
       "      <td>0</td>\n",
       "      <td>0</td>\n",
       "      <td>0</td>\n",
       "      <td>45</td>\n",
       "      <td>1</td>\n",
       "    </tr>\n",
       "    <tr>\n",
       "      <th>1</th>\n",
       "      <td>0</td>\n",
       "      <td>0</td>\n",
       "      <td>0</td>\n",
       "      <td>1</td>\n",
       "      <td>734</td>\n",
       "      <td>1</td>\n",
       "    </tr>\n",
       "    <tr>\n",
       "      <th>2</th>\n",
       "      <td>0</td>\n",
       "      <td>0</td>\n",
       "      <td>0</td>\n",
       "      <td>2</td>\n",
       "      <td>4145</td>\n",
       "      <td>1</td>\n",
       "    </tr>\n",
       "    <tr>\n",
       "      <th>3</th>\n",
       "      <td>0</td>\n",
       "      <td>0</td>\n",
       "      <td>0</td>\n",
       "      <td>3</td>\n",
       "      <td>3231</td>\n",
       "      <td>0</td>\n",
       "    </tr>\n",
       "    <tr>\n",
       "      <th>4</th>\n",
       "      <td>0</td>\n",
       "      <td>0</td>\n",
       "      <td>0</td>\n",
       "      <td>4</td>\n",
       "      <td>361</td>\n",
       "      <td>1</td>\n",
       "    </tr>\n",
       "  </tbody>\n",
       "</table>\n",
       "</div>"
      ],
      "text/plain": [
       "   user_id  quiz_type  quiz_number  question_number  item_id  rating\n",
       "0        0          0            0                0       45       1\n",
       "1        0          0            0                1      734       1\n",
       "2        0          0            0                2     4145       1\n",
       "3        0          0            0                3     3231       0\n",
       "4        0          0            0                4      361       1"
      ]
     },
     "execution_count": 56,
     "metadata": {},
     "output_type": "execute_result"
    }
   ],
   "source": [
    "# Convert categorical value to numeric value \n",
    "df['quiz_type'] = df.quiz_type.map({'random':0, 'personalized':1})\n",
    "df.head()"
   ]
  },
  {
   "cell_type": "markdown",
   "id": "5d23b157",
   "metadata": {},
   "source": [
    "#### Item_ID"
   ]
  },
  {
   "cell_type": "code",
   "execution_count": 17,
   "id": "f21feadb",
   "metadata": {},
   "outputs": [
    {
     "data": {
      "text/plain": [
       "5000"
      ]
     },
     "execution_count": 17,
     "metadata": {},
     "output_type": "execute_result"
    }
   ],
   "source": [
    "# There are 5000 unique items appeared on the quizzes. On average, an item appeared 223 times. Considering the size of the dataset, the cardinality of item isn't too large\n",
    "df['item_id'].nunique()"
   ]
  },
  {
   "cell_type": "code",
   "execution_count": 18,
   "id": "19d50d16",
   "metadata": {},
   "outputs": [
    {
     "data": {
      "text/plain": [
       "item_id\n",
       "1279    406\n",
       "1540    403\n",
       "1253    400\n",
       "2582    395\n",
       "3531    394\n",
       "3414    393\n",
       "3089    393\n",
       "3188    391\n",
       "515     391\n",
       "409     391\n",
       "dtype: int64"
      ]
     },
     "execution_count": 18,
     "metadata": {},
     "output_type": "execute_result"
    }
   ],
   "source": [
    "# The top 10 most appeared items on the quizzes. The range of items is quite compact \n",
    "df.groupby('item_id').size().sort_values(ascending=False)[:10]"
   ]
  },
  {
   "cell_type": "code",
   "execution_count": 19,
   "id": "40355503",
   "metadata": {},
   "outputs": [
    {
     "data": {
      "text/plain": [
       "item_id  rating\n",
       "2580     1         361\n",
       "4195     1         358\n",
       "3314     1         352\n",
       "3531     1         349\n",
       "859      1         345\n",
       "1279     1         345\n",
       "1540     1         345\n",
       "1885     1         344\n",
       "1374     1         343\n",
       "4029     1         342\n",
       "2728     1         341\n",
       "4702     1         341\n",
       "387      1         341\n",
       "3217     1         341\n",
       "4828     1         340\n",
       "1253     1         339\n",
       "4567     1         337\n",
       "1970     1         336\n",
       "3089     1         335\n",
       "3153     1         335\n",
       "Name: rating, dtype: int64"
      ]
     },
     "execution_count": 19,
     "metadata": {},
     "output_type": "execute_result"
    }
   ],
   "source": [
    "# The top 20 items that appeared on the quiz all received \"Likes\"; In fact, the item with the most \"Dislikes\" received, appears after the 200th. \n",
    "df.groupby(['item_id','rating'])['rating'].count().sort_values(ascending=False)[:20]"
   ]
  },
  {
   "cell_type": "markdown",
   "id": "e0c2dabc",
   "metadata": {},
   "source": [
    "### EDA in Visualization"
   ]
  },
  {
   "cell_type": "markdown",
   "id": "917af1dc",
   "metadata": {},
   "source": [
    "##### Quiz Type across Quiz Number"
   ]
  },
  {
   "cell_type": "code",
   "execution_count": 55,
   "id": "66aec262",
   "metadata": {},
   "outputs": [
    {
     "data": {
      "text/plain": [
       "(0.0, 30.0)"
      ]
     },
     "execution_count": 55,
     "metadata": {},
     "output_type": "execute_result"
    },
    {
     "data": {
      "image/png": "[encoded data removed]",
      "text/plain": [
       "<Figure size 1179.62x216 with 1 Axes>"
      ]
     },
     "metadata": {
      "needs_background": "light"
     },
     "output_type": "display_data"
    }
   ],
   "source": [
    "as_fig = sns.FacetGrid(df,hue='quiz_type',aspect=5)\n",
    "as_fig.map(sns.kdeplot,'quiz_number',shade=True)\n",
    "as_fig.add_legend()\n",
    "plt.xlim(0,30)"
   ]
  },
  {
   "cell_type": "markdown",
   "id": "62fefcf0",
   "metadata": {},
   "source": [
    "##### Observation : \n",
    "- Both personalized and random quizzes show a very similar exponential slide trend along the sequence of quizzes\n",
    "- Both quiz types reach to 1/6 reduction point (from 0) around the 9th quiz.\n",
    "- Thus, we deem that \"quiz type\" may not affect the level of interest in interaction with the quiz"
   ]
  },
  {
   "cell_type": "markdown",
   "id": "194f65ae",
   "metadata": {},
   "source": [
    "##### Rating accross Quiz Number"
   ]
  },
  {
   "cell_type": "code",
   "execution_count": 23,
   "id": "b4b520d0",
   "metadata": {},
   "outputs": [
    {
     "data": {
      "text/plain": [
       "(0.0, 15.0)"
      ]
     },
     "execution_count": 23,
     "metadata": {},
     "output_type": "execute_result"
    },
    {
     "data": {
      "image/png": "[encoded data removed]",
      "text/plain": [
       "<Figure size 906.375x216 with 1 Axes>"
      ]
     },
     "metadata": {
      "needs_background": "light"
     },
     "output_type": "display_data"
    }
   ],
   "source": [
    "as_fig = sns.FacetGrid(df,hue='rating',aspect=4, palette= \"Set2\")\n",
    "as_fig.map(sns.kdeplot,'quiz_number',shade=True)\n",
    "as_fig.add_legend()\n",
    "plt.xlim(0,15)"
   ]
  },
  {
   "cell_type": "markdown",
   "id": "a62dab5a",
   "metadata": {},
   "source": [
    "##### Observation :\n",
    "- Up to 2nd quiz, there is a noticeable difference between \"Like\" and \"Dislike\" clicks. At the very first quiz, \"Likes\" garnered around 10% more clicks than \"Dislikes\".\n",
    "-  We can notice that there is a pointy peak at the beginning of quiz number 0. It is also the point where the gap between \"Dislike\" and \"Like\" is the largest."
   ]
  },
  {
   "cell_type": "markdown",
   "id": "45ffeaff",
   "metadata": {},
   "source": [
    "#### Q) In which question number, the gap between \"Likes\" and \"Dislike\" is widened? "
   ]
  },
  {
   "cell_type": "code",
   "execution_count": 24,
   "id": "3f499920",
   "metadata": {},
   "outputs": [
    {
     "data": {
      "text/plain": [
       "(0.0, 20.0)"
      ]
     },
     "execution_count": 24,
     "metadata": {},
     "output_type": "execute_result"
    },
    {
     "data": {
      "image/png": "[encoded data removed]",
      "text/plain": [
       "<Figure size 906.375x216 with 1 Axes>"
      ]
     },
     "metadata": {
      "needs_background": "light"
     },
     "output_type": "display_data"
    }
   ],
   "source": [
    "as_fig = sns.FacetGrid(df,hue='rating',aspect=4, palette= \"Set1\")\n",
    "as_fig.map(sns.kdeplot,'question_number',shade=True)\n",
    "as_fig.add_legend()\n",
    "plt.xlim(0,20)"
   ]
  },
  {
   "cell_type": "markdown",
   "id": "f5e9a29f",
   "metadata": {},
   "source": [
    "##### Observation : \n",
    "- Around the 7th and 8th question number, user interaction frequency peaks at its high, as well as the gap between \"Dislikes\" and \"Likes\". This is the most critical section that the company should exert a better algorithm to display items that are relevant to the taste of users that promotes more engaging interaction by the users."
   ]
  },
  {
   "cell_type": "markdown",
   "id": "d5030a26",
   "metadata": {},
   "source": [
    "## Recommender System Modeling \n",
    "**Collaborative Filtering** It is a popular Recommender System (RecSYs) technique that makes automatic predictions (filtering) about the interest of a user by collecting preferences or taste information from other users' previous experiences (collaborating). \n",
    "\n",
    "In the case of this project, the model makes predictions about a user's potentially preferable clothes based on other similar users' demonstration of taste throughout the quizzes. \n",
    "\n",
    "The underlying assumption of the collaborative filtering approach is that if Jonn has the same/similar taste as David on a set of items, John is more likely to have David's taste for a given item than that of other randomly chosen people randomly chosen person. "
   ]
  },
  {
   "cell_type": "markdown",
   "id": "23ed482c",
   "metadata": {},
   "source": [
    "### Collaborative Filtering\n",
    "##### (K-Nearest Neighborhood)  "
   ]
  },
  {
   "cell_type": "markdown",
   "id": "df413d6a",
   "metadata": {},
   "source": [
    "The standard method of Collaborative Filtering is known as Nearest Neighborhood algorithm. There are user-based CF and item-based CF. Here, in this project, we will focus on item-based CF.\n",
    "\n",
    "To make a new recommendation to a user, the idea of item-based method is to find items similar to the ones the user already \"positively\" interacted with, or \"Like\" rating. Two items are considered to be similar if most of the users that have interest in both of them did it in a similar way. \n",
    "\n",
    "This item-centered method is based on interactions users had with them and evaluating distances between those items. "
   ]
  },
  {
   "cell_type": "markdown",
   "id": "c6db07e2",
   "metadata": {},
   "source": [
    "- To ensure statistical significance, we will focus on items with a high appearance on the quiz.\n",
    "- In order to find out which items appeared most often, we need to create a column that counts rating or frequency of appearance of item"
   ]
  },
  {
   "cell_type": "code",
   "execution_count": 25,
   "id": "b614e29d",
   "metadata": {},
   "outputs": [],
   "source": [
    "df_rating = pd.DataFrame({'Count_of_Rating':df.groupby('item_id').count()['rating'], \"Mean_Rating\":df.groupby('item_id').mean()['rating']})"
   ]
  },
  {
   "cell_type": "code",
   "execution_count": 26,
   "id": "8ee83444",
   "metadata": {},
   "outputs": [],
   "source": [
    "df_new = df_rating.merge(df, left_on ='item_id', right_on='item_id')"
   ]
  },
  {
   "cell_type": "code",
   "execution_count": 27,
   "id": "a4e785f1",
   "metadata": {},
   "outputs": [
    {
     "data": {
      "text/html": [
       "<div>\n",
       "<style scoped>\n",
       "    .dataframe tbody tr th:only-of-type {\n",
       "        vertical-align: middle;\n",
       "    }\n",
       "\n",
       "    .dataframe tbody tr th {\n",
       "        vertical-align: top;\n",
       "    }\n",
       "\n",
       "    .dataframe thead th {\n",
       "        text-align: right;\n",
       "    }\n",
       "</style>\n",
       "<table border=\"1\" class=\"dataframe\">\n",
       "  <thead>\n",
       "    <tr style=\"text-align: right;\">\n",
       "      <th></th>\n",
       "      <th>item_id</th>\n",
       "      <th>Count_of_Rating</th>\n",
       "      <th>Mean_Rating</th>\n",
       "      <th>user_id</th>\n",
       "      <th>quiz_type</th>\n",
       "      <th>quiz_number</th>\n",
       "      <th>question_number</th>\n",
       "      <th>rating</th>\n",
       "    </tr>\n",
       "  </thead>\n",
       "  <tbody>\n",
       "    <tr>\n",
       "      <th>0</th>\n",
       "      <td>0</td>\n",
       "      <td>163</td>\n",
       "      <td>0.466258</td>\n",
       "      <td>167</td>\n",
       "      <td>NaN</td>\n",
       "      <td>7</td>\n",
       "      <td>76</td>\n",
       "      <td>0</td>\n",
       "    </tr>\n",
       "    <tr>\n",
       "      <th>1</th>\n",
       "      <td>0</td>\n",
       "      <td>163</td>\n",
       "      <td>0.466258</td>\n",
       "      <td>259</td>\n",
       "      <td>NaN</td>\n",
       "      <td>1</td>\n",
       "      <td>12</td>\n",
       "      <td>1</td>\n",
       "    </tr>\n",
       "    <tr>\n",
       "      <th>2</th>\n",
       "      <td>0</td>\n",
       "      <td>163</td>\n",
       "      <td>0.466258</td>\n",
       "      <td>350</td>\n",
       "      <td>NaN</td>\n",
       "      <td>3</td>\n",
       "      <td>31</td>\n",
       "      <td>0</td>\n",
       "    </tr>\n",
       "    <tr>\n",
       "      <th>3</th>\n",
       "      <td>0</td>\n",
       "      <td>163</td>\n",
       "      <td>0.466258</td>\n",
       "      <td>395</td>\n",
       "      <td>NaN</td>\n",
       "      <td>1</td>\n",
       "      <td>12</td>\n",
       "      <td>0</td>\n",
       "    </tr>\n",
       "    <tr>\n",
       "      <th>4</th>\n",
       "      <td>0</td>\n",
       "      <td>163</td>\n",
       "      <td>0.466258</td>\n",
       "      <td>972</td>\n",
       "      <td>NaN</td>\n",
       "      <td>8</td>\n",
       "      <td>83</td>\n",
       "      <td>1</td>\n",
       "    </tr>\n",
       "  </tbody>\n",
       "</table>\n",
       "</div>"
      ],
      "text/plain": [
       "   item_id  Count_of_Rating  Mean_Rating  user_id  quiz_type  quiz_number  \\\n",
       "0        0              163     0.466258      167        NaN            7   \n",
       "1        0              163     0.466258      259        NaN            1   \n",
       "2        0              163     0.466258      350        NaN            3   \n",
       "3        0              163     0.466258      395        NaN            1   \n",
       "4        0              163     0.466258      972        NaN            8   \n",
       "\n",
       "   question_number  rating  \n",
       "0               76       0  \n",
       "1               12       1  \n",
       "2               31       0  \n",
       "3               12       0  \n",
       "4               83       1  "
      ]
     },
     "execution_count": 27,
     "metadata": {},
     "output_type": "execute_result"
    }
   ],
   "source": [
    "df_new.head()"
   ]
  },
  {
   "cell_type": "code",
   "execution_count": 28,
   "id": "69baf873",
   "metadata": {},
   "outputs": [
    {
     "data": {
      "text/plain": [
       "count    5000.000000\n",
       "mean      223.274000\n",
       "std        71.209091\n",
       "min       119.000000\n",
       "25%       164.000000\n",
       "50%       195.000000\n",
       "75%       281.000000\n",
       "max       406.000000\n",
       "Name: Count_of_Rating, dtype: float64"
      ]
     },
     "execution_count": 28,
     "metadata": {},
     "output_type": "execute_result"
    }
   ],
   "source": [
    "# The range of count of rating across items is quite compact, however, focusing on items with a high appearnce may increase accuracy\n",
    "df_rating['Count_of_Rating'].describe()"
   ]
  },
  {
   "cell_type": "markdown",
   "id": "73dbf8e5",
   "metadata": {},
   "source": [
    "- Although the size of the dataset is big (over one million), there are only 5000 distinct items so we cannot eliminate the majority of the items. \n",
    "- We will keep about 25% of items, which sets the lower-bound threshold at 281 frequency of rating, this will give us 1250 unique items."
   ]
  },
  {
   "cell_type": "code",
   "execution_count": 29,
   "id": "4c395611",
   "metadata": {},
   "outputs": [
    {
     "data": {
      "text/plain": [
       "0.75    281.0\n",
       "0.76    285.0\n",
       "0.77    289.0\n",
       "0.78    294.0\n",
       "0.79    297.0\n",
       "Name: Count_of_Rating, dtype: float64"
      ]
     },
     "execution_count": 29,
     "metadata": {},
     "output_type": "execute_result"
    }
   ],
   "source": [
    "df_rating['Count_of_Rating'].quantile(np.arange(0.75,1,.01)).head()"
   ]
  },
  {
   "cell_type": "code",
   "execution_count": 30,
   "id": "23550d0a",
   "metadata": {},
   "outputs": [
    {
     "data": {
      "text/html": [
       "<div>\n",
       "<style scoped>\n",
       "    .dataframe tbody tr th:only-of-type {\n",
       "        vertical-align: middle;\n",
       "    }\n",
       "\n",
       "    .dataframe tbody tr th {\n",
       "        vertical-align: top;\n",
       "    }\n",
       "\n",
       "    .dataframe thead th {\n",
       "        text-align: right;\n",
       "    }\n",
       "</style>\n",
       "<table border=\"1\" class=\"dataframe\">\n",
       "  <thead>\n",
       "    <tr style=\"text-align: right;\">\n",
       "      <th></th>\n",
       "      <th>item_id</th>\n",
       "      <th>Count_of_Rating</th>\n",
       "      <th>Mean_Rating</th>\n",
       "      <th>user_id</th>\n",
       "      <th>quiz_type</th>\n",
       "      <th>quiz_number</th>\n",
       "      <th>question_number</th>\n",
       "      <th>rating</th>\n",
       "    </tr>\n",
       "  </thead>\n",
       "  <tbody>\n",
       "    <tr>\n",
       "      <th>840</th>\n",
       "      <td>5</td>\n",
       "      <td>312</td>\n",
       "      <td>0.647436</td>\n",
       "      <td>35</td>\n",
       "      <td>NaN</td>\n",
       "      <td>4</td>\n",
       "      <td>45</td>\n",
       "      <td>0</td>\n",
       "    </tr>\n",
       "    <tr>\n",
       "      <th>841</th>\n",
       "      <td>5</td>\n",
       "      <td>312</td>\n",
       "      <td>0.647436</td>\n",
       "      <td>93</td>\n",
       "      <td>NaN</td>\n",
       "      <td>10</td>\n",
       "      <td>106</td>\n",
       "      <td>1</td>\n",
       "    </tr>\n",
       "    <tr>\n",
       "      <th>842</th>\n",
       "      <td>5</td>\n",
       "      <td>312</td>\n",
       "      <td>0.647436</td>\n",
       "      <td>367</td>\n",
       "      <td>NaN</td>\n",
       "      <td>0</td>\n",
       "      <td>1</td>\n",
       "      <td>1</td>\n",
       "    </tr>\n",
       "    <tr>\n",
       "      <th>843</th>\n",
       "      <td>5</td>\n",
       "      <td>312</td>\n",
       "      <td>0.647436</td>\n",
       "      <td>418</td>\n",
       "      <td>NaN</td>\n",
       "      <td>14</td>\n",
       "      <td>140</td>\n",
       "      <td>1</td>\n",
       "    </tr>\n",
       "    <tr>\n",
       "      <th>844</th>\n",
       "      <td>5</td>\n",
       "      <td>312</td>\n",
       "      <td>0.647436</td>\n",
       "      <td>441</td>\n",
       "      <td>NaN</td>\n",
       "      <td>0</td>\n",
       "      <td>2</td>\n",
       "      <td>0</td>\n",
       "    </tr>\n",
       "  </tbody>\n",
       "</table>\n",
       "</div>"
      ],
      "text/plain": [
       "     item_id  Count_of_Rating  Mean_Rating  user_id  quiz_type  quiz_number  \\\n",
       "840        5              312     0.647436       35        NaN            4   \n",
       "841        5              312     0.647436       93        NaN           10   \n",
       "842        5              312     0.647436      367        NaN            0   \n",
       "843        5              312     0.647436      418        NaN           14   \n",
       "844        5              312     0.647436      441        NaN            0   \n",
       "\n",
       "     question_number  rating  \n",
       "840               45       0  \n",
       "841              106       1  \n",
       "842                1       1  \n",
       "843              140       1  \n",
       "844                2       0  "
      ]
     },
     "execution_count": 30,
     "metadata": {},
     "output_type": "execute_result"
    }
   ],
   "source": [
    "threshold = 281\n",
    "df_popular_rating = df_new.query('Count_of_Rating >= @threshold')\n",
    "df_popular_rating.head()"
   ]
  },
  {
   "cell_type": "code",
   "execution_count": 31,
   "id": "290e2466",
   "metadata": {},
   "outputs": [
    {
     "data": {
      "text/plain": [
       "(412833, 8)"
      ]
     },
     "execution_count": 31,
     "metadata": {},
     "output_type": "execute_result"
    }
   ],
   "source": [
    "df_popular_rating.shape"
   ]
  },
  {
   "cell_type": "markdown",
   "id": "aae0fe5d",
   "metadata": {},
   "source": [
    "##### Implementing KNN"
   ]
  },
  {
   "cell_type": "markdown",
   "id": "82a481e0",
   "metadata": {},
   "source": [
    "I will convert the table to a 2D matrix using pivot_table, and fill the missing values with zeros (since I will focusing on calculating the distances between rating vectors). \n",
    "\n",
    "Then, I will transform the values(ratings) of the matrix dataframe into a scipy sparse matrix for more efficient calculations, given that the dataframe contains a large number of zero-valued elements"
   ]
  },
  {
   "cell_type": "code",
   "execution_count": 32,
   "id": "704db019",
   "metadata": {},
   "outputs": [],
   "source": [
    "df_pivot_rating = pd.pivot_table(data = df_popular_rating, index ='item_id', columns = 'user_id', values ='rating').fillna(value=0)"
   ]
  },
  {
   "cell_type": "markdown",
   "id": "0228e783",
   "metadata": {},
   "source": [
    "The algorithm  that  we rely on to compute the nearest neighbors is “brute”, the simplest among KNN algorithms, and we specify “metric=cosine” so that the algorithm will calculate the cosine similarity between rating vectors, and then, we fit the model"
   ]
  },
  {
   "cell_type": "code",
   "execution_count": 33,
   "id": "2eeb22fb",
   "metadata": {},
   "outputs": [],
   "source": [
    "df_matrix_rating = csr_matrix(df_pivot_rating.values)"
   ]
  },
  {
   "cell_type": "code",
   "execution_count": 34,
   "id": "d8eb0588",
   "metadata": {},
   "outputs": [
    {
     "data": {
      "text/plain": [
       "NearestNeighbors(algorithm='brute', metric='cosine')"
      ]
     },
     "execution_count": 34,
     "metadata": {},
     "output_type": "execute_result"
    }
   ],
   "source": [
    "model_knn = NearestNeighbors(metric = 'cosine', algorithm ='brute')\n",
    "model_knn.fit(df_matrix_rating)"
   ]
  },
  {
   "cell_type": "markdown",
   "id": "5ed7d6dc",
   "metadata": {},
   "source": [
    "Now, the kNN algorithm measures distance to determine the “closeness” of instances. It then classifies an instance by finding its nearest neighbors, and picks the most popular class among the neighbors.\n",
    "\n",
    "In the action, the query system automatically generated an item_id, 2449, and identified 5 items that (I set it in \"n_neighbor) are in its nearest neighbors."
   ]
  },
  {
   "cell_type": "code",
   "execution_count": 35,
   "id": "22661b74",
   "metadata": {},
   "outputs": [
    {
     "name": "stdout",
     "output_type": "stream",
     "text": [
      "Recommendatoins for 2449:\n",
      "\n",
      "1: 4200, with distance of 0.9259187804019549:\n",
      "2: 1717, with distance of 0.9373273777914962:\n",
      "3: 2644, with distance of 0.9394635709034005:\n",
      "4: 4281, with distance of 0.9401496512624673:\n",
      "5: 3421, with distance of 0.9404229696968824:\n"
     ]
    }
   ],
   "source": [
    "query_index = np.random.choice(df_pivot_rating.shape[0])\n",
    "distances, indices = model_knn.kneighbors(df_pivot_rating.iloc[query_index,:].values.reshape(1,-1), n_neighbors=6)\n",
    "\n",
    "for i in range(0, len(distances.flatten())):\n",
    "    if i == 0:\n",
    "        print('Recommendatoins for {0}:\\n'.format(df_pivot_rating.index[query_index])) \n",
    "    else:\n",
    "        print('{0}: {1}, with distance of {2}:'.format(i, df_pivot_rating.index[indices.flatten()[i]], distances.flatten()[i]))"
   ]
  },
  {
   "cell_type": "markdown",
   "id": "28f6d009",
   "metadata": {},
   "source": [
    "Finally, we can recommend these five items with the closest distance to item 2449 to the users that have clicked \"Likes\" to 2449"
   ]
  },
  {
   "cell_type": "code",
   "execution_count": 36,
   "id": "b7b689d5",
   "metadata": {},
   "outputs": [
    {
     "data": {
      "text/plain": [
       "user_id  item_id\n",
       "126      2449       1\n",
       "248      2449       1\n",
       "413      2449       1\n",
       "562      2449       1\n",
       "655      2449       1\n",
       "                   ..\n",
       "19681    2449       1\n",
       "19753    2449       1\n",
       "19825    2449       1\n",
       "19951    2449       1\n",
       "19974    2449       1\n",
       "Name: rating, Length: 316, dtype: int64"
      ]
     },
     "execution_count": 36,
     "metadata": {},
     "output_type": "execute_result"
    }
   ],
   "source": [
    "df.groupby(\"item_id\").get_group(2449).groupby(['user_id','item_id']).count()['rating']"
   ]
  },
  {
   "cell_type": "markdown",
   "id": "1b3a5687",
   "metadata": {},
   "source": [
    "### Collaborative Filtering \n",
    "\n",
    "##### (Sigular Value Decomposition or SVD)"
   ]
  },
  {
   "cell_type": "markdown",
   "id": "6852ce04",
   "metadata": {},
   "source": [
    "SVD is a powerful model for creating a Recommender System. Matrix Factorization, the idea behind SVD represents users and items in a lower-dimensional latent space and allows users to discover the latent features underlying the interactions between users and items.  \n",
    "\n",
    "\n",
    "Just like in KNN, we start with converting the dataset into a 2D Matrix and fill the missing value with zeros"
   ]
  },
  {
   "cell_type": "code",
   "execution_count": 37,
   "id": "22274385",
   "metadata": {},
   "outputs": [],
   "source": [
    "df_pivot_rating2 = pd.pivot_table(data = df_new, index ='user_id', columns = 'item_id', values ='rating').fillna(value=0)"
   ]
  },
  {
   "cell_type": "code",
   "execution_count": 38,
   "id": "77dc9580",
   "metadata": {},
   "outputs": [
    {
     "data": {
      "text/html": [
       "<div>\n",
       "<style scoped>\n",
       "    .dataframe tbody tr th:only-of-type {\n",
       "        vertical-align: middle;\n",
       "    }\n",
       "\n",
       "    .dataframe tbody tr th {\n",
       "        vertical-align: top;\n",
       "    }\n",
       "\n",
       "    .dataframe thead th {\n",
       "        text-align: right;\n",
       "    }\n",
       "</style>\n",
       "<table border=\"1\" class=\"dataframe\">\n",
       "  <thead>\n",
       "    <tr style=\"text-align: right;\">\n",
       "      <th>item_id</th>\n",
       "      <th>0</th>\n",
       "      <th>1</th>\n",
       "      <th>2</th>\n",
       "      <th>3</th>\n",
       "      <th>4</th>\n",
       "      <th>5</th>\n",
       "      <th>6</th>\n",
       "      <th>7</th>\n",
       "      <th>8</th>\n",
       "      <th>9</th>\n",
       "      <th>...</th>\n",
       "      <th>4990</th>\n",
       "      <th>4991</th>\n",
       "      <th>4992</th>\n",
       "      <th>4993</th>\n",
       "      <th>4994</th>\n",
       "      <th>4995</th>\n",
       "      <th>4996</th>\n",
       "      <th>4997</th>\n",
       "      <th>4998</th>\n",
       "      <th>4999</th>\n",
       "    </tr>\n",
       "    <tr>\n",
       "      <th>user_id</th>\n",
       "      <th></th>\n",
       "      <th></th>\n",
       "      <th></th>\n",
       "      <th></th>\n",
       "      <th></th>\n",
       "      <th></th>\n",
       "      <th></th>\n",
       "      <th></th>\n",
       "      <th></th>\n",
       "      <th></th>\n",
       "      <th></th>\n",
       "      <th></th>\n",
       "      <th></th>\n",
       "      <th></th>\n",
       "      <th></th>\n",
       "      <th></th>\n",
       "      <th></th>\n",
       "      <th></th>\n",
       "      <th></th>\n",
       "      <th></th>\n",
       "      <th></th>\n",
       "    </tr>\n",
       "  </thead>\n",
       "  <tbody>\n",
       "    <tr>\n",
       "      <th>0</th>\n",
       "      <td>0.0</td>\n",
       "      <td>0.0</td>\n",
       "      <td>0.0</td>\n",
       "      <td>0.0</td>\n",
       "      <td>0.0</td>\n",
       "      <td>0.0</td>\n",
       "      <td>0.0</td>\n",
       "      <td>0.0</td>\n",
       "      <td>0.0</td>\n",
       "      <td>0.0</td>\n",
       "      <td>...</td>\n",
       "      <td>0.0</td>\n",
       "      <td>0.0</td>\n",
       "      <td>0.0</td>\n",
       "      <td>0.0</td>\n",
       "      <td>0.0</td>\n",
       "      <td>0.0</td>\n",
       "      <td>0.0</td>\n",
       "      <td>0.0</td>\n",
       "      <td>0.0</td>\n",
       "      <td>0.0</td>\n",
       "    </tr>\n",
       "    <tr>\n",
       "      <th>1</th>\n",
       "      <td>0.0</td>\n",
       "      <td>0.0</td>\n",
       "      <td>0.0</td>\n",
       "      <td>0.0</td>\n",
       "      <td>0.0</td>\n",
       "      <td>0.0</td>\n",
       "      <td>0.0</td>\n",
       "      <td>0.0</td>\n",
       "      <td>0.0</td>\n",
       "      <td>0.0</td>\n",
       "      <td>...</td>\n",
       "      <td>0.0</td>\n",
       "      <td>0.0</td>\n",
       "      <td>0.0</td>\n",
       "      <td>0.0</td>\n",
       "      <td>0.0</td>\n",
       "      <td>0.0</td>\n",
       "      <td>0.0</td>\n",
       "      <td>0.0</td>\n",
       "      <td>0.0</td>\n",
       "      <td>0.0</td>\n",
       "    </tr>\n",
       "    <tr>\n",
       "      <th>2</th>\n",
       "      <td>0.0</td>\n",
       "      <td>0.0</td>\n",
       "      <td>0.0</td>\n",
       "      <td>0.0</td>\n",
       "      <td>0.0</td>\n",
       "      <td>0.0</td>\n",
       "      <td>0.0</td>\n",
       "      <td>0.0</td>\n",
       "      <td>0.0</td>\n",
       "      <td>0.0</td>\n",
       "      <td>...</td>\n",
       "      <td>0.0</td>\n",
       "      <td>0.0</td>\n",
       "      <td>0.0</td>\n",
       "      <td>0.0</td>\n",
       "      <td>0.0</td>\n",
       "      <td>0.0</td>\n",
       "      <td>0.0</td>\n",
       "      <td>0.0</td>\n",
       "      <td>1.0</td>\n",
       "      <td>0.0</td>\n",
       "    </tr>\n",
       "    <tr>\n",
       "      <th>3</th>\n",
       "      <td>0.0</td>\n",
       "      <td>0.0</td>\n",
       "      <td>0.0</td>\n",
       "      <td>0.0</td>\n",
       "      <td>0.0</td>\n",
       "      <td>0.0</td>\n",
       "      <td>0.0</td>\n",
       "      <td>0.0</td>\n",
       "      <td>0.0</td>\n",
       "      <td>0.0</td>\n",
       "      <td>...</td>\n",
       "      <td>0.0</td>\n",
       "      <td>0.0</td>\n",
       "      <td>0.0</td>\n",
       "      <td>0.0</td>\n",
       "      <td>0.0</td>\n",
       "      <td>0.0</td>\n",
       "      <td>0.0</td>\n",
       "      <td>0.0</td>\n",
       "      <td>0.0</td>\n",
       "      <td>0.0</td>\n",
       "    </tr>\n",
       "    <tr>\n",
       "      <th>4</th>\n",
       "      <td>0.0</td>\n",
       "      <td>0.0</td>\n",
       "      <td>0.0</td>\n",
       "      <td>0.0</td>\n",
       "      <td>0.0</td>\n",
       "      <td>0.0</td>\n",
       "      <td>0.0</td>\n",
       "      <td>0.0</td>\n",
       "      <td>0.0</td>\n",
       "      <td>0.0</td>\n",
       "      <td>...</td>\n",
       "      <td>0.0</td>\n",
       "      <td>0.0</td>\n",
       "      <td>0.0</td>\n",
       "      <td>0.0</td>\n",
       "      <td>0.0</td>\n",
       "      <td>0.0</td>\n",
       "      <td>0.0</td>\n",
       "      <td>0.0</td>\n",
       "      <td>0.0</td>\n",
       "      <td>0.0</td>\n",
       "    </tr>\n",
       "    <tr>\n",
       "      <th>...</th>\n",
       "      <td>...</td>\n",
       "      <td>...</td>\n",
       "      <td>...</td>\n",
       "      <td>...</td>\n",
       "      <td>...</td>\n",
       "      <td>...</td>\n",
       "      <td>...</td>\n",
       "      <td>...</td>\n",
       "      <td>...</td>\n",
       "      <td>...</td>\n",
       "      <td>...</td>\n",
       "      <td>...</td>\n",
       "      <td>...</td>\n",
       "      <td>...</td>\n",
       "      <td>...</td>\n",
       "      <td>...</td>\n",
       "      <td>...</td>\n",
       "      <td>...</td>\n",
       "      <td>...</td>\n",
       "      <td>...</td>\n",
       "      <td>...</td>\n",
       "    </tr>\n",
       "    <tr>\n",
       "      <th>19995</th>\n",
       "      <td>0.0</td>\n",
       "      <td>0.0</td>\n",
       "      <td>0.0</td>\n",
       "      <td>0.0</td>\n",
       "      <td>0.0</td>\n",
       "      <td>0.0</td>\n",
       "      <td>0.0</td>\n",
       "      <td>0.0</td>\n",
       "      <td>0.0</td>\n",
       "      <td>0.0</td>\n",
       "      <td>...</td>\n",
       "      <td>0.0</td>\n",
       "      <td>0.0</td>\n",
       "      <td>0.0</td>\n",
       "      <td>0.0</td>\n",
       "      <td>0.0</td>\n",
       "      <td>0.0</td>\n",
       "      <td>0.0</td>\n",
       "      <td>0.0</td>\n",
       "      <td>0.0</td>\n",
       "      <td>0.0</td>\n",
       "    </tr>\n",
       "    <tr>\n",
       "      <th>19996</th>\n",
       "      <td>0.0</td>\n",
       "      <td>0.0</td>\n",
       "      <td>0.0</td>\n",
       "      <td>0.0</td>\n",
       "      <td>0.0</td>\n",
       "      <td>0.0</td>\n",
       "      <td>0.0</td>\n",
       "      <td>0.0</td>\n",
       "      <td>0.0</td>\n",
       "      <td>0.0</td>\n",
       "      <td>...</td>\n",
       "      <td>0.0</td>\n",
       "      <td>0.0</td>\n",
       "      <td>0.0</td>\n",
       "      <td>0.0</td>\n",
       "      <td>0.0</td>\n",
       "      <td>0.0</td>\n",
       "      <td>0.0</td>\n",
       "      <td>0.0</td>\n",
       "      <td>0.0</td>\n",
       "      <td>0.0</td>\n",
       "    </tr>\n",
       "    <tr>\n",
       "      <th>19997</th>\n",
       "      <td>0.0</td>\n",
       "      <td>0.0</td>\n",
       "      <td>0.0</td>\n",
       "      <td>0.0</td>\n",
       "      <td>0.0</td>\n",
       "      <td>0.0</td>\n",
       "      <td>0.0</td>\n",
       "      <td>0.0</td>\n",
       "      <td>0.0</td>\n",
       "      <td>0.0</td>\n",
       "      <td>...</td>\n",
       "      <td>0.0</td>\n",
       "      <td>0.0</td>\n",
       "      <td>0.0</td>\n",
       "      <td>0.0</td>\n",
       "      <td>0.0</td>\n",
       "      <td>0.0</td>\n",
       "      <td>0.0</td>\n",
       "      <td>0.0</td>\n",
       "      <td>0.0</td>\n",
       "      <td>0.0</td>\n",
       "    </tr>\n",
       "    <tr>\n",
       "      <th>19998</th>\n",
       "      <td>0.0</td>\n",
       "      <td>0.0</td>\n",
       "      <td>0.0</td>\n",
       "      <td>0.0</td>\n",
       "      <td>0.0</td>\n",
       "      <td>0.0</td>\n",
       "      <td>0.0</td>\n",
       "      <td>0.0</td>\n",
       "      <td>0.0</td>\n",
       "      <td>0.0</td>\n",
       "      <td>...</td>\n",
       "      <td>0.0</td>\n",
       "      <td>0.0</td>\n",
       "      <td>0.0</td>\n",
       "      <td>0.0</td>\n",
       "      <td>0.0</td>\n",
       "      <td>0.0</td>\n",
       "      <td>0.0</td>\n",
       "      <td>0.0</td>\n",
       "      <td>0.0</td>\n",
       "      <td>0.0</td>\n",
       "    </tr>\n",
       "    <tr>\n",
       "      <th>19999</th>\n",
       "      <td>0.0</td>\n",
       "      <td>0.0</td>\n",
       "      <td>0.0</td>\n",
       "      <td>0.0</td>\n",
       "      <td>0.0</td>\n",
       "      <td>0.0</td>\n",
       "      <td>0.0</td>\n",
       "      <td>0.0</td>\n",
       "      <td>0.0</td>\n",
       "      <td>0.0</td>\n",
       "      <td>...</td>\n",
       "      <td>0.0</td>\n",
       "      <td>0.0</td>\n",
       "      <td>0.0</td>\n",
       "      <td>0.0</td>\n",
       "      <td>0.0</td>\n",
       "      <td>0.0</td>\n",
       "      <td>0.0</td>\n",
       "      <td>0.0</td>\n",
       "      <td>0.0</td>\n",
       "      <td>0.0</td>\n",
       "    </tr>\n",
       "  </tbody>\n",
       "</table>\n",
       "<p>20000 rows × 5000 columns</p>\n",
       "</div>"
      ],
      "text/plain": [
       "item_id  0     1     2     3     4     5     6     7     8     9     ...  \\\n",
       "user_id                                                              ...   \n",
       "0         0.0   0.0   0.0   0.0   0.0   0.0   0.0   0.0   0.0   0.0  ...   \n",
       "1         0.0   0.0   0.0   0.0   0.0   0.0   0.0   0.0   0.0   0.0  ...   \n",
       "2         0.0   0.0   0.0   0.0   0.0   0.0   0.0   0.0   0.0   0.0  ...   \n",
       "3         0.0   0.0   0.0   0.0   0.0   0.0   0.0   0.0   0.0   0.0  ...   \n",
       "4         0.0   0.0   0.0   0.0   0.0   0.0   0.0   0.0   0.0   0.0  ...   \n",
       "...       ...   ...   ...   ...   ...   ...   ...   ...   ...   ...  ...   \n",
       "19995     0.0   0.0   0.0   0.0   0.0   0.0   0.0   0.0   0.0   0.0  ...   \n",
       "19996     0.0   0.0   0.0   0.0   0.0   0.0   0.0   0.0   0.0   0.0  ...   \n",
       "19997     0.0   0.0   0.0   0.0   0.0   0.0   0.0   0.0   0.0   0.0  ...   \n",
       "19998     0.0   0.0   0.0   0.0   0.0   0.0   0.0   0.0   0.0   0.0  ...   \n",
       "19999     0.0   0.0   0.0   0.0   0.0   0.0   0.0   0.0   0.0   0.0  ...   \n",
       "\n",
       "item_id  4990  4991  4992  4993  4994  4995  4996  4997  4998  4999  \n",
       "user_id                                                              \n",
       "0         0.0   0.0   0.0   0.0   0.0   0.0   0.0   0.0   0.0   0.0  \n",
       "1         0.0   0.0   0.0   0.0   0.0   0.0   0.0   0.0   0.0   0.0  \n",
       "2         0.0   0.0   0.0   0.0   0.0   0.0   0.0   0.0   1.0   0.0  \n",
       "3         0.0   0.0   0.0   0.0   0.0   0.0   0.0   0.0   0.0   0.0  \n",
       "4         0.0   0.0   0.0   0.0   0.0   0.0   0.0   0.0   0.0   0.0  \n",
       "...       ...   ...   ...   ...   ...   ...   ...   ...   ...   ...  \n",
       "19995     0.0   0.0   0.0   0.0   0.0   0.0   0.0   0.0   0.0   0.0  \n",
       "19996     0.0   0.0   0.0   0.0   0.0   0.0   0.0   0.0   0.0   0.0  \n",
       "19997     0.0   0.0   0.0   0.0   0.0   0.0   0.0   0.0   0.0   0.0  \n",
       "19998     0.0   0.0   0.0   0.0   0.0   0.0   0.0   0.0   0.0   0.0  \n",
       "19999     0.0   0.0   0.0   0.0   0.0   0.0   0.0   0.0   0.0   0.0  \n",
       "\n",
       "[20000 rows x 5000 columns]"
      ]
     },
     "execution_count": 38,
     "metadata": {},
     "output_type": "execute_result"
    }
   ],
   "source": [
    "df_pivot_rating2"
   ]
  },
  {
   "cell_type": "code",
   "execution_count": 39,
   "id": "02935441",
   "metadata": {},
   "outputs": [
    {
     "data": {
      "text/plain": [
       "(20000, 5000)"
      ]
     },
     "execution_count": 39,
     "metadata": {},
     "output_type": "execute_result"
    }
   ],
   "source": [
    "df_pivot_rating2.shape"
   ]
  },
  {
   "cell_type": "code",
   "execution_count": 40,
   "id": "1da7c681",
   "metadata": {},
   "outputs": [
    {
     "data": {
      "text/plain": [
       "(1252, 19835)"
      ]
     },
     "execution_count": 40,
     "metadata": {},
     "output_type": "execute_result"
    }
   ],
   "source": [
    "df_pivot_rating.shape"
   ]
  },
  {
   "cell_type": "markdown",
   "id": "bbf482a3",
   "metadata": {},
   "source": [
    "Now, we transpose this matrix for quick calculation in SVD. As result,the Item_ids become rows and User Ids become columns. After using TruncatedSVD to decompose it, we fit it into the model for dimensionality reduction. This compression happened on the dataframe’s columns since we  must preserve the Item_id. \n",
    "\n",
    "In the parameter, we can set n_components, we set it for 15, which means just 15 latent variables, and you can see, the data’s dimensions have been reduced significantly from 20000 X 5000 to 5000 X 15, as we fit it into the model."
   ]
  },
  {
   "cell_type": "code",
   "execution_count": 41,
   "id": "f3cc5bc3",
   "metadata": {},
   "outputs": [
    {
     "data": {
      "text/plain": [
       "(5000, 20000)"
      ]
     },
     "execution_count": 41,
     "metadata": {},
     "output_type": "execute_result"
    }
   ],
   "source": [
    "X =df_pivot_rating2.values.T\n",
    "X.shape"
   ]
  },
  {
   "cell_type": "code",
   "execution_count": 42,
   "id": "1be826ee",
   "metadata": {},
   "outputs": [
    {
     "data": {
      "text/plain": [
       "array([[0., 0., 0., ..., 0., 0., 0.],\n",
       "       [0., 0., 0., ..., 0., 0., 0.],\n",
       "       [0., 0., 0., ..., 0., 0., 0.],\n",
       "       ...,\n",
       "       [0., 0., 0., ..., 0., 0., 0.],\n",
       "       [0., 0., 1., ..., 0., 0., 0.],\n",
       "       [0., 0., 0., ..., 0., 0., 0.]])"
      ]
     },
     "execution_count": 42,
     "metadata": {},
     "output_type": "execute_result"
    }
   ],
   "source": [
    "X"
   ]
  },
  {
   "cell_type": "code",
   "execution_count": 43,
   "id": "10afec57",
   "metadata": {},
   "outputs": [
    {
     "data": {
      "text/plain": [
       "(5000, 15)"
      ]
     },
     "execution_count": 43,
     "metadata": {},
     "output_type": "execute_result"
    }
   ],
   "source": [
    "SVD = TruncatedSVD(n_components=15)\n",
    "matrix = SVD.fit_transform(X)\n",
    "matrix.shape"
   ]
  },
  {
   "cell_type": "markdown",
   "id": "76254ac9",
   "metadata": {},
   "source": [
    "After fitting and having done wtih dimensionality reduction. We calculate the Pearson's R correlation coefficient for every item pair in the final matrix. \n",
    "\n",
    "\n",
    "To compare this with the results from KNN, we pick the same item_id (2449) to find the items that have high correlation coefficients (between 0.91 and 1.0) with it."
   ]
  },
  {
   "cell_type": "code",
   "execution_count": 44,
   "id": "bcf5b558",
   "metadata": {},
   "outputs": [
    {
     "data": {
      "text/plain": [
       "(5000, 5000)"
      ]
     },
     "execution_count": 44,
     "metadata": {},
     "output_type": "execute_result"
    }
   ],
   "source": [
    "correlation_matrix = np.corrcoef(matrix)\n",
    "correlation_matrix.shape"
   ]
  },
  {
   "cell_type": "code",
   "execution_count": 46,
   "id": "07e34c45",
   "metadata": {},
   "outputs": [
    {
     "name": "stdout",
     "output_type": "stream",
     "text": [
      "2449\n"
     ]
    }
   ],
   "source": [
    "item_num = df_pivot_rating2.columns\n",
    "item_list = list(item_num)\n",
    "random_item = item_list.index(2449)\n",
    "print(random_item)"
   ]
  },
  {
   "cell_type": "markdown",
   "id": "5a3d3811",
   "metadata": {},
   "source": [
    " Here are 7 items that have high correlation coefficients (between 0.91 to 1.0) with item 2449"
   ]
  },
  {
   "cell_type": "code",
   "execution_count": 53,
   "id": "58d6f11c",
   "metadata": {},
   "outputs": [
    {
     "data": {
      "text/plain": [
       "[1010, 1531, 1748, 1775, 2615, 4125, 4291]"
      ]
     },
     "execution_count": 53,
     "metadata": {},
     "output_type": "execute_result"
    }
   ],
   "source": [
    "corr_random_item = correlation_matrix[random_item]\n",
    "list(item_num[(corr_random_item<1.0)&(corr_random_item>0.91)])"
   ]
  },
  {
   "cell_type": "markdown",
   "id": "a04c641b",
   "metadata": {},
   "source": [
    "### Areas to explore further"
   ]
  },
  {
   "cell_type": "markdown",
   "id": "8b1d00e4",
   "metadata": {},
   "source": [
    "For a limit on time (2 hours), I didn't explore my initial presumption, the existence of users that engage in quizzes with an unfaithful or insincere attitude such as giving a barrage of \"Likes\" or \"Dislikes\" without consideration.\n",
    "\n",
    "I may need to review the possible unusually high frequency of \"Likes\" or \"Dislikes\" from certain users. If there is a column tracking the time that users spent to rate each question, it may serve to identify those unfaithful and insincere ratings.\n",
    "\n"
   ]
  },
  {
   "cell_type": "code",
   "execution_count": null,
   "id": "060dcc6e",
   "metadata": {},
   "outputs": [],
   "source": []
  }
 ],
 "metadata": {
  "kernelspec": {
   "display_name": "Python 3 (ipykernel)",
   "language": "python",
   "name": "python3"
  },
  "language_info": {
   "codemirror_mode": {
    "name": "ipython",
    "version": 3
   },
   "file_extension": ".py",
   "mimetype": "text/x-python",
   "name": "python",
   "nbconvert_exporter": "python",
   "pygments_lexer": "ipython3",
   "version": "3.9.7"
  }
 },
 "nbformat": 4,
 "nbformat_minor": 5
}
